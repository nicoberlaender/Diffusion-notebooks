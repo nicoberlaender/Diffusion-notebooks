{
  "cells": [
    {
      "cell_type": "code",
      "execution_count": null,
      "metadata": {
        "vscode": {
          "languageId": "plaintext"
        },
        "id": "nTLkYxm-5SWj"
      },
      "outputs": [],
      "source": [
        "%pip install torch\n",
        "%pip install diffusers\n",
        "%pip install transformers\n",
        "%pip install accelerate\n",
        "%pip install torchao"
      ]
    },
    {
      "cell_type": "code",
      "execution_count": null,
      "metadata": {
        "vscode": {
          "languageId": "plaintext"
        },
        "id": "D482GkCy5SWl"
      },
      "outputs": [],
      "source": [
        "import torch\n",
        "from diffusers import CogVideoXPipeline\n",
        "from diffusers.utils import export_to_video\n",
        "\n",
        "# Create pipeline and run inference\n",
        "pipe = CogVideoXPipeline.from_pretrained(\n",
        "    \"THUDM/CogVideoX-5b\",\n",
        "    torch_dtype=torch.bfloat16,\n",
        ")\n",
        "pipe.enable_model_cpu_offload()\n",
        "pipe.enable_sequential_cpu_offload()\n",
        "pipe.vae.enable_slicing()\n",
        "pipe.vae.enable_tiling()\n",
        "\n",
        "prompt = \"A panda, dressed in a small, red jacket and a tiny hat, sits on a wooden stool in a serene bamboo forest. The panda's fluffy paws strum a miniature acoustic guitar, producing soft, melodic tunes. Nearby, a few other pandas gather, watching curiously and some clapping in rhythm. Sunlight filters through the tall bamboo, casting a gentle glow on the scene. The panda's face is expressive, showing concentration and joy as it plays. The background includes a small, flowing stream and vibrant green foliage, enhancing the peaceful and magical atmosphere of this unique musical performance.\""
      ]
    },
    {
      "cell_type": "code",
      "execution_count": null,
      "metadata": {
        "vscode": {
          "languageId": "plaintext"
        },
        "id": "EQta9XES5SWl"
      },
      "outputs": [],
      "source": [
        "video = pipe(\n",
        "    prompt=prompt,\n",
        "    num_videos_per_prompt=1,\n",
        "    num_inference_steps=50,\n",
        "    num_frames=49,\n",
        "    guidance_scale=6,\n",
        "    generator=torch.Generator(device=\"cuda\").manual_seed(42),\n",
        ").frames[0]"
      ]
    },
    {
      "cell_type": "code",
      "execution_count": null,
      "metadata": {
        "vscode": {
          "languageId": "plaintext"
        },
        "id": "S-cCuiPq5SWm"
      },
      "outputs": [],
      "source": [
        "export_to_video(video, \"output.mp4\", fps=8)"
      ]
    }
  ],
  "metadata": {
    "language_info": {
      "name": "python"
    },
    "colab": {
      "provenance": [],
      "gpuType": "T4"
    },
    "kernelspec": {
      "name": "python3",
      "display_name": "Python 3"
    },
    "accelerator": "GPU"
  },
  "nbformat": 4,
  "nbformat_minor": 0
}